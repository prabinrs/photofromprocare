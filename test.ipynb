{
 "cells": [
  {
   "cell_type": "code",
   "execution_count": 9,
   "metadata": {},
   "outputs": [],
   "source": [
    "import json\n",
    "import requests\n",
    "import os\n",
    "from io import BytesIO\n",
    "from zipfile import ZipFile\n",
    "from PIL import Image\n",
    "from IPython.display import display, FileLink\n"
   ]
  },
  {
   "cell_type": "code",
   "execution_count": 15,
   "metadata": {},
   "outputs": [],
   "source": [
    "def parse_har(file_content):\n",
    "    urls = []\n",
    "    har_data = json.loads(file_content)\n",
    "    for entry in har_data['log']['entries']:\n",
    "        url = entry['request']['url']\n",
    "        if 'img_' in url and 'thumb' in url:\n",
    "            urls.append(url)\n",
    "    return urls\n",
    "\n",
    "def replace_thumbnail_urls(urls):\n",
    "    main_urls = [url.replace('thumb', 'main') for url in urls]\n",
    "    return main_urls\n",
    "\n",
    "def sanitize_filename(url):\n",
    "    # Extract the filename part and remove URL parameters\n",
    "    filename = url.split('/')[-1]\n",
    "    filename = filename.split('?')[0]\n",
    "    return filename\n",
    "\n",
    "def download_images(urls, output_folder):\n",
    "    if not os.path.exists(output_folder):\n",
    "        os.makedirs(output_folder)\n",
    "    image_paths = []\n",
    "    for url in urls:\n",
    "        image_name = sanitize_filename(url)\n",
    "        image_path = os.path.join(output_folder, image_name)\n",
    "        response = requests.get(url)\n",
    "        with open(image_path, 'wb') as f:\n",
    "            f.write(response.content)\n",
    "        image_paths.append(image_path)\n",
    "    return image_paths\n",
    "\n",
    "\n",
    "def display_images(image_paths):\n",
    "    for image_path in image_paths:\n",
    "        img = Image.open(image_path)\n",
    "        display(img)"
   ]
  },
  {
   "cell_type": "code",
   "execution_count": 22,
   "metadata": {},
   "outputs": [],
   "source": [
    "har_file_path = 'schools.procareconnect.com_2023.har'\n",
    "output_folder = \"downloaded_images/2023/\"\n",
    "import os\n",
    "os.makedirs(output_folder, exist_ok=True)"
   ]
  },
  {
   "cell_type": "code",
   "execution_count": 23,
   "metadata": {},
   "outputs": [
    {
     "name": "stdout",
     "output_type": "stream",
     "text": [
      "Found 748 image URLs.\n",
      "Replaced thumbnail links with main picture links.\n",
      "Downloading images...\n",
      "Images downloaded to 'downloaded_images/2023/'.\n"
     ]
    }
   ],
   "source": [
    "with open(har_file_path, 'r') as file:\n",
    "    har_content = file.read()\n",
    "\n",
    "urls = parse_har(har_content)\n",
    "print(f\"Found {len(urls)} image URLs.\")\n",
    "main_urls = replace_thumbnail_urls(urls)\n",
    "print(\"Replaced thumbnail links with main picture links.\")\n",
    "\n",
    "print(\"Downloading images...\")\n",
    "image_paths = download_images(main_urls, output_folder)\n",
    "print(f\"Images downloaded to '{output_folder}'.\")"
   ]
  },
  {
   "cell_type": "code",
   "execution_count": null,
   "metadata": {},
   "outputs": [],
   "source": []
  }
 ],
 "metadata": {
  "kernelspec": {
   "display_name": "Python 3",
   "language": "python",
   "name": "python3"
  },
  "language_info": {
   "codemirror_mode": {
    "name": "ipython",
    "version": 3
   },
   "file_extension": ".py",
   "mimetype": "text/x-python",
   "name": "python",
   "nbconvert_exporter": "python",
   "pygments_lexer": "ipython3",
   "version": "3.9.6"
  }
 },
 "nbformat": 4,
 "nbformat_minor": 2
}
